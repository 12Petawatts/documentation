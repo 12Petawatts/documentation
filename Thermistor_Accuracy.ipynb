{
  "nbformat": 4,
  "nbformat_minor": 0,
  "metadata": {
    "colab": {
      "provenance": [],
      "authorship_tag": "ABX9TyN6EcLCWJ7zu0l03ICB0uG2",
      "include_colab_link": true
    },
    "kernelspec": {
      "name": "python3",
      "display_name": "Python 3"
    },
    "language_info": {
      "name": "python"
    }
  },
  "cells": [
    {
      "cell_type": "markdown",
      "metadata": {
        "id": "view-in-github",
        "colab_type": "text"
      },
      "source": [
        "<a href=\"https://colab.research.google.com/github/eddietheengineer/documentation/blob/master/Thermistor_Accuracy.ipynb\" target=\"_parent\"><img src=\"https://colab.research.google.com/assets/colab-badge.svg\" alt=\"Open In Colab\"/></a>"
      ]
    },
    {
      "cell_type": "markdown",
      "source": [
        "## Thermistor Tolerance Calculator\n",
        "Let's talk thermistors! Today we're going to break down how to calculate the accuracy of a thermistor\n",
        "\n"
      ],
      "metadata": {
        "id": "nsEUxbaEALr3"
      }
    },
    {
      "cell_type": "code",
      "execution_count": 105,
      "metadata": {
        "id": "3vtMIz12AEns"
      },
      "outputs": [],
      "source": [
        "%matplotlib inline\n",
        "import numpy as np\n",
        "import math\n",
        "import matplotlib.pyplot as plt"
      ]
    },
    {
      "cell_type": "markdown",
      "source": [
        "First off, we need to define a few characteristics of the sensor we will be reviewing today, the Semitec 104NT-4-R025H42G. This thermistor is by far the most common thermistor used in 3d printer hotends. The spec sheet can be seen here: [Semitec Thermistor Datasheet](https://www.mouser.com/datasheet/2/362/P18_NT_Thermistor-1535133.pdf)\n"
      ],
      "metadata": {
        "id": "ut_3aj8jAfDG"
      }
    },
    {
      "cell_type": "code",
      "source": [
        "minRatedTemp_degC = -50\n",
        "maxRatedTemp_degC = 300"
      ],
      "metadata": {
        "id": "73Yu9XXfDEoN"
      },
      "execution_count": 106,
      "outputs": []
    },
    {
      "cell_type": "markdown",
      "source": [
        "# Calculate Thermistor Curve using Beta\n",
        "In this first section, we define the easiest way to define a thermistor vs. temperature curve. This method only requires 3 pieces of data. The nominal temperature and nominal resistance define a specific point (essentially X, Y coordinates), and the beta value defines a \"slope\" even though it's not actually a true linear slope characteristic. \n",
        "\n"
      ],
      "metadata": {
        "id": "9JCWBtcLCBQ8"
      }
    },
    {
      "cell_type": "code",
      "source": [
        "nominalTemp_degC = 25\n",
        "nominalResistance_Ohms = 100000\n",
        "beta = 4267"
      ],
      "metadata": {
        "id": "RjoyWPOkBoqL"
      },
      "execution_count": 107,
      "outputs": []
    },
    {
      "cell_type": "markdown",
      "source": [
        "Next, we'll calculate the resistance for each temperature using these three parameters:"
      ],
      "metadata": {
        "id": "nIhiTWu2H7DV"
      }
    },
    {
      "cell_type": "code",
      "source": [
        "temperature_array = np.array(range(minRatedTemp_degC,maxRatedTemp_degC))\n",
        "resistance_array = np.array(range(len(temperature_array)))\n",
        "\n",
        "def celsiusToKelvin(temperature):\n",
        "  return temperature + 273.15\n",
        "\n",
        "for i in range(len(temperature_array)):\n",
        "  resistance_array[i] = int(nominalResistance_Ohms * math.exp(beta*((1/celsiusToKelvin(temperature_array[i]))-(1/(celsiusToKelvin(nominalTemp_degC))))))\n"
      ],
      "metadata": {
        "id": "9gEVc_evDTp-"
      },
      "execution_count": 108,
      "outputs": []
    },
    {
      "cell_type": "markdown",
      "source": [
        "Finally, lets make a quick plot of these values"
      ],
      "metadata": {
        "id": "qgf_Ftb6IJSk"
      }
    },
    {
      "cell_type": "code",
      "source": [
        "plt.clf()\n",
        "plt.scatter(temperature_array,resistance_array)\n",
        "plt.ylabel('Resistance')\n",
        "plt.yscale('log')\n",
        "plt.xlabel('Temperature')"
      ],
      "metadata": {
        "colab": {
          "base_uri": "https://localhost:8080/",
          "height": 466
        },
        "id": "2wI8xymdKHs-",
        "outputId": "4fe6e0e4-028d-4584-cb04-e5b716f3c7de"
      },
      "execution_count": 110,
      "outputs": [
        {
          "output_type": "execute_result",
          "data": {
            "text/plain": [
              "Text(0.5, 0, 'Temperature')"
            ]
          },
          "metadata": {},
          "execution_count": 110
        },
        {
          "output_type": "display_data",
          "data": {
            "text/plain": [
              "<Figure size 640x480 with 1 Axes>"
            ],
            "image/png": "[encoded data removed]"
          },
          "metadata": {}
        }
      ]
    }
  ]
}